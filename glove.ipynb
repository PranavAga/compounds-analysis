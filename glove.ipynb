{
 "cells": [
  {
   "cell_type": "markdown",
   "id": "904ffb57",
   "metadata": {},
   "source": [
    "_S25: Computational Psycholinguistics_\n",
    "\n",
    "Team Project\n",
    "\n",
    "Swarang Joshi, 2022114010\n",
    "\n",
    "Pranav Agarwal, 2021113018\n",
    "\n",
    "# Compund Analysis: Glove"
   ]
  },
  {
   "cell_type": "code",
   "execution_count": null,
   "id": "4fbe62fd",
   "metadata": {},
   "outputs": [],
   "source": [
    "import numpy as np\n",
    "import pandas as pd\n",
    "from sklearn.metrics.pairwise import cosine_similarity\n",
    "from sklearn.metrics import mean_absolute_error\n",
    "from scipy.stats import spearmanr\n",
    "import torch"
   ]
  },
  {
   "cell_type": "code",
   "execution_count": null,
   "id": "dab08b4a",
   "metadata": {},
   "outputs": [],
   "source": [
    "# !pip install torch torchvision torchaudio"
   ]
  },
  {
   "cell_type": "code",
   "execution_count": null,
   "id": "a64fe023",
   "metadata": {},
   "outputs": [],
   "source": [
    "def glove_vectors(list_of_words):\n",
    "\n",
    "    file_name = \"./data/glove.6B.300d.txt\"\n",
    "\n",
    "    words_to_vectors = {}\n",
    "    with open(file_name, \"r\", encoding=\"utf8\") as f:\n",
    "        for line in f.readlines():\n",
    "            splitted = line.split(\" \")\n",
    "            word = splitted[0]\n",
    "            vector = splitted[1:]\n",
    "\n",
    "            if word in list_of_words:\n",
    "                words_to_vectors[word] = np.array([float(v) for v in vector])\n",
    "\n",
    "    return words_to_vectors\n"
   ]
  },
  {
   "cell_type": "markdown",
   "id": "0863453a",
   "metadata": {},
   "source": [
    "## Loading Compund Words Dataset"
   ]
  },
  {
   "cell_type": "code",
   "execution_count": null,
   "id": "eaad4c7d",
   "metadata": {},
   "outputs": [
    {
     "data": {
      "text/html": [
       "<div>\n",
       "<style scoped>\n",
       "    .dataframe tbody tr th:only-of-type {\n",
       "        vertical-align: middle;\n",
       "    }\n",
       "\n",
       "    .dataframe tbody tr th {\n",
       "        vertical-align: top;\n",
       "    }\n",
       "\n",
       "    .dataframe thead th {\n",
       "        text-align: right;\n",
       "    }\n",
       "</style>\n",
       "<table border=\"1\" class=\"dataframe\">\n",
       "  <thead>\n",
       "    <tr style=\"text-align: right;\">\n",
       "      <th></th>\n",
       "      <th>Compound</th>\n",
       "      <th>left</th>\n",
       "      <th>right</th>\n",
       "      <th>TRAN</th>\n",
       "      <th>LMD</th>\n",
       "    </tr>\n",
       "  </thead>\n",
       "  <tbody>\n",
       "    <tr>\n",
       "      <th>0</th>\n",
       "      <td>aboveground</td>\n",
       "      <td>above</td>\n",
       "      <td>ground</td>\n",
       "      <td>6.200000</td>\n",
       "      <td>4.000000</td>\n",
       "    </tr>\n",
       "    <tr>\n",
       "      <th>1</th>\n",
       "      <td>airbase</td>\n",
       "      <td>air</td>\n",
       "      <td>base</td>\n",
       "      <td>4.266667</td>\n",
       "      <td>5.866667</td>\n",
       "    </tr>\n",
       "    <tr>\n",
       "      <th>2</th>\n",
       "      <td>airborne</td>\n",
       "      <td>air</td>\n",
       "      <td>borne</td>\n",
       "      <td>3.857143</td>\n",
       "      <td>3.133333</td>\n",
       "    </tr>\n",
       "    <tr>\n",
       "      <th>3</th>\n",
       "      <td>aircraft</td>\n",
       "      <td>air</td>\n",
       "      <td>craft</td>\n",
       "      <td>4.533333</td>\n",
       "      <td>4.266667</td>\n",
       "    </tr>\n",
       "    <tr>\n",
       "      <th>4</th>\n",
       "      <td>airfield</td>\n",
       "      <td>air</td>\n",
       "      <td>field</td>\n",
       "      <td>4.333333</td>\n",
       "      <td>5.714286</td>\n",
       "    </tr>\n",
       "    <tr>\n",
       "      <th>...</th>\n",
       "      <td>...</td>\n",
       "      <td>...</td>\n",
       "      <td>...</td>\n",
       "      <td>...</td>\n",
       "      <td>...</td>\n",
       "    </tr>\n",
       "    <tr>\n",
       "      <th>623</th>\n",
       "      <td>wordplay</td>\n",
       "      <td>word</td>\n",
       "      <td>play</td>\n",
       "      <td>4.928571</td>\n",
       "      <td>3.533333</td>\n",
       "    </tr>\n",
       "    <tr>\n",
       "      <th>624</th>\n",
       "      <td>worldwide</td>\n",
       "      <td>world</td>\n",
       "      <td>wide</td>\n",
       "      <td>4.928571</td>\n",
       "      <td>3.066667</td>\n",
       "    </tr>\n",
       "    <tr>\n",
       "      <th>625</th>\n",
       "      <td>wristwatch</td>\n",
       "      <td>wrist</td>\n",
       "      <td>watch</td>\n",
       "      <td>6.266667</td>\n",
       "      <td>6.333333</td>\n",
       "    </tr>\n",
       "    <tr>\n",
       "      <th>626</th>\n",
       "      <td>yardstick</td>\n",
       "      <td>yards</td>\n",
       "      <td>tick</td>\n",
       "      <td>5.866667</td>\n",
       "      <td>5.333333</td>\n",
       "    </tr>\n",
       "    <tr>\n",
       "      <th>627</th>\n",
       "      <td>yearbook</td>\n",
       "      <td>year</td>\n",
       "      <td>book</td>\n",
       "      <td>5.384615</td>\n",
       "      <td>5.933333</td>\n",
       "    </tr>\n",
       "  </tbody>\n",
       "</table>\n",
       "<p>628 rows × 5 columns</p>\n",
       "</div>"
      ],
      "text/plain": [
       "        Compound   left   right      TRAN       LMD\n",
       "0    aboveground  above  ground  6.200000  4.000000\n",
       "1        airbase    air    base  4.266667  5.866667\n",
       "2       airborne    air   borne  3.857143  3.133333\n",
       "3       aircraft    air   craft  4.533333  4.266667\n",
       "4       airfield    air   field  4.333333  5.714286\n",
       "..           ...    ...     ...       ...       ...\n",
       "623     wordplay   word    play  4.928571  3.533333\n",
       "624    worldwide  world    wide  4.928571  3.066667\n",
       "625   wristwatch  wrist   watch  6.266667  6.333333\n",
       "626    yardstick  yards    tick  5.866667  5.333333\n",
       "627     yearbook   year    book  5.384615  5.933333\n",
       "\n",
       "[628 rows x 5 columns]"
      ]
     },
     "execution_count": 4,
     "metadata": {},
     "output_type": "execute_result"
    }
   ],
   "source": [
    "compounds_df = pd.read_csv(\"./data/compounds.csv\")\n",
    "compounds_df = compounds_df.drop(compounds_df.columns[0], axis=1)\n",
    "compounds_df"
   ]
  },
  {
   "cell_type": "markdown",
   "id": "79a87a5a",
   "metadata": {},
   "source": [
    "## Getting Word Embeddings"
   ]
  },
  {
   "cell_type": "code",
   "execution_count": null,
   "id": "cf45bc76",
   "metadata": {},
   "outputs": [
    {
     "data": {
      "text/plain": [
       "1247"
      ]
     },
     "execution_count": 5,
     "metadata": {},
     "output_type": "execute_result"
    }
   ],
   "source": [
    "words_to_vectors = glove_vectors(\n",
    "    compounds_df[\"Compound\"].tolist()+\n",
    "    compounds_df[\"left\"].tolist()+\n",
    "    compounds_df[\"right\"].tolist()\n",
    ")\n",
    "len(words_to_vectors)"
   ]
  },
  {
   "cell_type": "markdown",
   "id": "984ec293",
   "metadata": {},
   "source": [
    "### Remove word set not found"
   ]
  },
  {
   "cell_type": "code",
   "execution_count": null,
   "id": "da6af323",
   "metadata": {},
   "outputs": [
    {
     "data": {
      "text/html": [
       "<div>\n",
       "<style scoped>\n",
       "    .dataframe tbody tr th:only-of-type {\n",
       "        vertical-align: middle;\n",
       "    }\n",
       "\n",
       "    .dataframe tbody tr th {\n",
       "        vertical-align: top;\n",
       "    }\n",
       "\n",
       "    .dataframe thead th {\n",
       "        text-align: right;\n",
       "    }\n",
       "</style>\n",
       "<table border=\"1\" class=\"dataframe\">\n",
       "  <thead>\n",
       "    <tr style=\"text-align: right;\">\n",
       "      <th></th>\n",
       "      <th>Compound</th>\n",
       "      <th>left</th>\n",
       "      <th>right</th>\n",
       "      <th>TRAN</th>\n",
       "      <th>LMD</th>\n",
       "    </tr>\n",
       "  </thead>\n",
       "  <tbody>\n",
       "    <tr>\n",
       "      <th>0</th>\n",
       "      <td>aboveground</td>\n",
       "      <td>above</td>\n",
       "      <td>ground</td>\n",
       "      <td>6.200000</td>\n",
       "      <td>4.000000</td>\n",
       "    </tr>\n",
       "    <tr>\n",
       "      <th>1</th>\n",
       "      <td>airbase</td>\n",
       "      <td>air</td>\n",
       "      <td>base</td>\n",
       "      <td>4.266667</td>\n",
       "      <td>5.866667</td>\n",
       "    </tr>\n",
       "    <tr>\n",
       "      <th>2</th>\n",
       "      <td>airborne</td>\n",
       "      <td>air</td>\n",
       "      <td>borne</td>\n",
       "      <td>3.857143</td>\n",
       "      <td>3.133333</td>\n",
       "    </tr>\n",
       "    <tr>\n",
       "      <th>3</th>\n",
       "      <td>aircraft</td>\n",
       "      <td>air</td>\n",
       "      <td>craft</td>\n",
       "      <td>4.533333</td>\n",
       "      <td>4.266667</td>\n",
       "    </tr>\n",
       "    <tr>\n",
       "      <th>4</th>\n",
       "      <td>airfield</td>\n",
       "      <td>air</td>\n",
       "      <td>field</td>\n",
       "      <td>4.333333</td>\n",
       "      <td>5.714286</td>\n",
       "    </tr>\n",
       "    <tr>\n",
       "      <th>...</th>\n",
       "      <td>...</td>\n",
       "      <td>...</td>\n",
       "      <td>...</td>\n",
       "      <td>...</td>\n",
       "      <td>...</td>\n",
       "    </tr>\n",
       "    <tr>\n",
       "      <th>618</th>\n",
       "      <td>wordplay</td>\n",
       "      <td>word</td>\n",
       "      <td>play</td>\n",
       "      <td>4.928571</td>\n",
       "      <td>3.533333</td>\n",
       "    </tr>\n",
       "    <tr>\n",
       "      <th>619</th>\n",
       "      <td>worldwide</td>\n",
       "      <td>world</td>\n",
       "      <td>wide</td>\n",
       "      <td>4.928571</td>\n",
       "      <td>3.066667</td>\n",
       "    </tr>\n",
       "    <tr>\n",
       "      <th>620</th>\n",
       "      <td>wristwatch</td>\n",
       "      <td>wrist</td>\n",
       "      <td>watch</td>\n",
       "      <td>6.266667</td>\n",
       "      <td>6.333333</td>\n",
       "    </tr>\n",
       "    <tr>\n",
       "      <th>621</th>\n",
       "      <td>yardstick</td>\n",
       "      <td>yards</td>\n",
       "      <td>tick</td>\n",
       "      <td>5.866667</td>\n",
       "      <td>5.333333</td>\n",
       "    </tr>\n",
       "    <tr>\n",
       "      <th>622</th>\n",
       "      <td>yearbook</td>\n",
       "      <td>year</td>\n",
       "      <td>book</td>\n",
       "      <td>5.384615</td>\n",
       "      <td>5.933333</td>\n",
       "    </tr>\n",
       "  </tbody>\n",
       "</table>\n",
       "<p>623 rows × 5 columns</p>\n",
       "</div>"
      ],
      "text/plain": [
       "        Compound   left   right      TRAN       LMD\n",
       "0    aboveground  above  ground  6.200000  4.000000\n",
       "1        airbase    air    base  4.266667  5.866667\n",
       "2       airborne    air   borne  3.857143  3.133333\n",
       "3       aircraft    air   craft  4.533333  4.266667\n",
       "4       airfield    air   field  4.333333  5.714286\n",
       "..           ...    ...     ...       ...       ...\n",
       "618     wordplay   word    play  4.928571  3.533333\n",
       "619    worldwide  world    wide  4.928571  3.066667\n",
       "620   wristwatch  wrist   watch  6.266667  6.333333\n",
       "621    yardstick  yards    tick  5.866667  5.333333\n",
       "622     yearbook   year    book  5.384615  5.933333\n",
       "\n",
       "[623 rows x 5 columns]"
      ]
     },
     "execution_count": 6,
     "metadata": {},
     "output_type": "execute_result"
    }
   ],
   "source": [
    "# Remove compounds that are not in GloVe\n",
    "compounds_df = compounds_df[compounds_df[\"Compound\"].isin(words_to_vectors.keys())]\n",
    "compounds_df = compounds_df.reset_index(drop=True)\n",
    "compounds_df = compounds_df[compounds_df[\"left\"].isin(words_to_vectors.keys())]\n",
    "compounds_df = compounds_df.reset_index(drop=True)\n",
    "compounds_df = compounds_df[compounds_df[\"right\"].isin(words_to_vectors.keys())]\n",
    "compounds_df = compounds_df.reset_index(drop=True)\n",
    "compounds_df"
   ]
  },
  {
   "cell_type": "markdown",
   "id": "20691930",
   "metadata": {},
   "source": [
    "## Getting Cosine Similarity of L and R lexems"
   ]
  },
  {
   "cell_type": "code",
   "execution_count": null,
   "id": "108f983b",
   "metadata": {},
   "outputs": [
    {
     "name": "stdout",
     "output_type": "stream",
     "text": [
      "(623, 300)\n",
      "(623, 300)\n",
      "(623, 300)\n"
     ]
    }
   ],
   "source": [
    "compounds_glove_embeddings = np.array([\n",
    "    words_to_vectors[compound] for compound in compounds_df[\"Compound\"]\n",
    "])\n",
    "left_glove_embeddings = np.array([\n",
    "    words_to_vectors[compound] for compound in compounds_df[\"left\"]\n",
    "])\n",
    "right_glove_embeddings = np.array([\n",
    "    words_to_vectors[compound] for compound in compounds_df[\"right\"]\n",
    "])\n",
    "print(compounds_glove_embeddings.shape)\n",
    "print(left_glove_embeddings.shape)\n",
    "print(right_glove_embeddings.shape)"
   ]
  },
  {
   "cell_type": "markdown",
   "id": "64be4c16",
   "metadata": {},
   "source": [
    "### Computing Cosine Similarities"
   ]
  },
  {
   "cell_type": "code",
   "execution_count": null,
   "id": "7c3e23bf",
   "metadata": {},
   "outputs": [
    {
     "name": "stdout",
     "output_type": "stream",
     "text": [
      "(623,)\n",
      "(623,)\n"
     ]
    }
   ],
   "source": [
    "# Compute cosine similarity of left and right embeddings with compound embeddings\n",
    "def cosine_similarity(a, b):\n",
    "    # Compute dot product\n",
    "    dot_product = np.sum(a * b, axis=1)\n",
    "    \n",
    "    # Compute magnitudes\n",
    "    norm_a = np.linalg.norm(a, axis=1)\n",
    "    norm_b = np.linalg.norm(b, axis=1)\n",
    "    \n",
    "    # Compute cosine similarity\n",
    "    cosine_sim = dot_product / (norm_a * norm_b)\n",
    "\n",
    "    return cosine_sim\n",
    "\n",
    "\n",
    "L_cosine = cosine_similarity(left_glove_embeddings, compounds_glove_embeddings)\n",
    "R_cosine = cosine_similarity(right_glove_embeddings, compounds_glove_embeddings)\n",
    "\n",
    "print(L_cosine.shape)\n",
    "print(R_cosine.shape)\n",
    "\n",
    "# Resetting the range of the cosine similarity values to be between 0 and 1\n",
    "# L_cosine = (L_cosine + 1) / 2\n",
    "# R_cosine = (R_cosine + 1) / 2\n",
    "# L_cosine = np.abs(L_cosine)\n",
    "# R_cosine = np.abs(R_cosine)"
   ]
  },
  {
   "cell_type": "markdown",
   "id": "c6f5be96",
   "metadata": {},
   "source": [
    "## Obtaining LMD and ST"
   ]
  },
  {
   "cell_type": "code",
   "execution_count": null,
   "id": "6e0c9281",
   "metadata": {},
   "outputs": [],
   "source": [
    "def calc_LMD(L,R):\n",
    "    return 5*(R - L) + 5\n",
    "\n",
    "glove_LMD = calc_LMD(L_cosine, R_cosine)"
   ]
  },
  {
   "cell_type": "code",
   "execution_count": null,
   "id": "a363dd5f",
   "metadata": {},
   "outputs": [],
   "source": [
    "def calc_ST(L,R):\n",
    "    return 3*(R + L) + 1\n",
    "\n",
    "glove_ST = calc_ST(L_cosine, R_cosine)"
   ]
  },
  {
   "cell_type": "markdown",
   "id": "1176a165",
   "metadata": {},
   "source": [
    "## Evaluating"
   ]
  },
  {
   "cell_type": "code",
   "execution_count": null,
   "id": "72805e19",
   "metadata": {},
   "outputs": [
    {
     "name": "stdout",
     "output_type": "stream",
     "text": [
      "LMD MAE: 0.9850749358895161\n",
      "LMD Spearman: 0.47257485753044226\n",
      "ST MAE: 2.4924816662663165\n",
      "ST Spearman: 0.2685460636195837\n"
     ]
    }
   ],
   "source": [
    "# Calculate the MAE and Spearman correlation\n",
    "mea_LMD = mean_absolute_error(compounds_df[\"LMD\"], glove_LMD)\n",
    "spearman_LMD = spearmanr(compounds_df[\"LMD\"], glove_LMD)[0]\n",
    "mea_ST = mean_absolute_error(compounds_df[\"TRAN\"], glove_ST)\n",
    "spearman_ST = spearmanr(compounds_df[\"TRAN\"], glove_ST)[0]\n",
    "\n",
    "print(\"LMD MAE:\", mea_LMD)\n",
    "print(\"LMD Spearman:\", spearman_LMD)\n",
    "print(\"ST MAE:\", mea_ST)\n",
    "print(\"ST Spearman:\", spearman_ST)"
   ]
  },
  {
   "cell_type": "markdown",
   "id": "ab749e42",
   "metadata": {},
   "source": [
    "## Saving the Computed Values"
   ]
  },
  {
   "cell_type": "code",
   "execution_count": null,
   "id": "46563ca9",
   "metadata": {},
   "outputs": [],
   "source": [
    "# Save the computed values to a CSV file\n",
    "compounds_df[\"glove_LMD\"] = glove_LMD\n",
    "compounds_df[\"glove_TRAN\"] = glove_ST\n",
    "\n",
    "compounds_df.to_csv(\"./data/compounds_glove.csv\", index=False)\n"
   ]
  },
  {
   "cell_type": "markdown",
   "id": "97388ce0",
   "metadata": {},
   "source": []
  }
 ],
 "metadata": {
  "kernelspec": {
   "display_name": "Python 3",
   "language": "python",
   "name": "python3"
  },
  "language_info": {
   "codemirror_mode": {
    "name": "ipython",
    "version": 3
   },
   "file_extension": ".py",
   "mimetype": "text/x-python",
   "name": "python",
   "nbconvert_exporter": "python",
   "pygments_lexer": "ipython3",
   "version": "3.12.10"
  }
 },
 "nbformat": 4,
 "nbformat_minor": 5
}
